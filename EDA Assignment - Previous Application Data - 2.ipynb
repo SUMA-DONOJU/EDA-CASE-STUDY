{
 "cells": [
  {
   "cell_type": "code",
   "execution_count": 2,
   "id": "cec87f7f",
   "metadata": {},
   "outputs": [
    {
     "data": {
      "text/html": [
       "<div>\n",
       "<style scoped>\n",
       "    .dataframe tbody tr th:only-of-type {\n",
       "        vertical-align: middle;\n",
       "    }\n",
       "\n",
       "    .dataframe tbody tr th {\n",
       "        vertical-align: top;\n",
       "    }\n",
       "\n",
       "    .dataframe thead th {\n",
       "        text-align: right;\n",
       "    }\n",
       "</style>\n",
       "<table border=\"1\" class=\"dataframe\">\n",
       "  <thead>\n",
       "    <tr style=\"text-align: right;\">\n",
       "      <th></th>\n",
       "      <th>SK_ID_PREV</th>\n",
       "      <th>SK_ID_CURR</th>\n",
       "      <th>NAME_CONTRACT_TYPE</th>\n",
       "      <th>AMT_ANNUITY</th>\n",
       "      <th>AMT_APPLICATION</th>\n",
       "      <th>AMT_CREDIT</th>\n",
       "      <th>AMT_DOWN_PAYMENT</th>\n",
       "      <th>AMT_GOODS_PRICE</th>\n",
       "      <th>WEEKDAY_APPR_PROCESS_START</th>\n",
       "      <th>HOUR_APPR_PROCESS_START</th>\n",
       "      <th>...</th>\n",
       "      <th>NAME_SELLER_INDUSTRY</th>\n",
       "      <th>CNT_PAYMENT</th>\n",
       "      <th>NAME_YIELD_GROUP</th>\n",
       "      <th>PRODUCT_COMBINATION</th>\n",
       "      <th>DAYS_FIRST_DRAWING</th>\n",
       "      <th>DAYS_FIRST_DUE</th>\n",
       "      <th>DAYS_LAST_DUE_1ST_VERSION</th>\n",
       "      <th>DAYS_LAST_DUE</th>\n",
       "      <th>DAYS_TERMINATION</th>\n",
       "      <th>NFLAG_INSURED_ON_APPROVAL</th>\n",
       "    </tr>\n",
       "  </thead>\n",
       "  <tbody>\n",
       "    <tr>\n",
       "      <th>0</th>\n",
       "      <td>2030495</td>\n",
       "      <td>271877</td>\n",
       "      <td>Consumer loans</td>\n",
       "      <td>1730.430</td>\n",
       "      <td>17145.0</td>\n",
       "      <td>17145.0</td>\n",
       "      <td>0.0</td>\n",
       "      <td>17145.0</td>\n",
       "      <td>SATURDAY</td>\n",
       "      <td>15</td>\n",
       "      <td>...</td>\n",
       "      <td>Connectivity</td>\n",
       "      <td>12.0</td>\n",
       "      <td>middle</td>\n",
       "      <td>POS mobile with interest</td>\n",
       "      <td>365243.0</td>\n",
       "      <td>-42.0</td>\n",
       "      <td>300.0</td>\n",
       "      <td>-42.0</td>\n",
       "      <td>-37.0</td>\n",
       "      <td>0.0</td>\n",
       "    </tr>\n",
       "    <tr>\n",
       "      <th>1</th>\n",
       "      <td>2802425</td>\n",
       "      <td>108129</td>\n",
       "      <td>Cash loans</td>\n",
       "      <td>25188.615</td>\n",
       "      <td>607500.0</td>\n",
       "      <td>679671.0</td>\n",
       "      <td>NaN</td>\n",
       "      <td>607500.0</td>\n",
       "      <td>THURSDAY</td>\n",
       "      <td>11</td>\n",
       "      <td>...</td>\n",
       "      <td>XNA</td>\n",
       "      <td>36.0</td>\n",
       "      <td>low_action</td>\n",
       "      <td>Cash X-Sell: low</td>\n",
       "      <td>365243.0</td>\n",
       "      <td>-134.0</td>\n",
       "      <td>916.0</td>\n",
       "      <td>365243.0</td>\n",
       "      <td>365243.0</td>\n",
       "      <td>1.0</td>\n",
       "    </tr>\n",
       "    <tr>\n",
       "      <th>2</th>\n",
       "      <td>2523466</td>\n",
       "      <td>122040</td>\n",
       "      <td>Cash loans</td>\n",
       "      <td>15060.735</td>\n",
       "      <td>112500.0</td>\n",
       "      <td>136444.5</td>\n",
       "      <td>NaN</td>\n",
       "      <td>112500.0</td>\n",
       "      <td>TUESDAY</td>\n",
       "      <td>11</td>\n",
       "      <td>...</td>\n",
       "      <td>XNA</td>\n",
       "      <td>12.0</td>\n",
       "      <td>high</td>\n",
       "      <td>Cash X-Sell: high</td>\n",
       "      <td>365243.0</td>\n",
       "      <td>-271.0</td>\n",
       "      <td>59.0</td>\n",
       "      <td>365243.0</td>\n",
       "      <td>365243.0</td>\n",
       "      <td>1.0</td>\n",
       "    </tr>\n",
       "    <tr>\n",
       "      <th>3</th>\n",
       "      <td>2819243</td>\n",
       "      <td>176158</td>\n",
       "      <td>Cash loans</td>\n",
       "      <td>47041.335</td>\n",
       "      <td>450000.0</td>\n",
       "      <td>470790.0</td>\n",
       "      <td>NaN</td>\n",
       "      <td>450000.0</td>\n",
       "      <td>MONDAY</td>\n",
       "      <td>7</td>\n",
       "      <td>...</td>\n",
       "      <td>XNA</td>\n",
       "      <td>12.0</td>\n",
       "      <td>middle</td>\n",
       "      <td>Cash X-Sell: middle</td>\n",
       "      <td>365243.0</td>\n",
       "      <td>-482.0</td>\n",
       "      <td>-152.0</td>\n",
       "      <td>-182.0</td>\n",
       "      <td>-177.0</td>\n",
       "      <td>1.0</td>\n",
       "    </tr>\n",
       "    <tr>\n",
       "      <th>4</th>\n",
       "      <td>1784265</td>\n",
       "      <td>202054</td>\n",
       "      <td>Cash loans</td>\n",
       "      <td>31924.395</td>\n",
       "      <td>337500.0</td>\n",
       "      <td>404055.0</td>\n",
       "      <td>NaN</td>\n",
       "      <td>337500.0</td>\n",
       "      <td>THURSDAY</td>\n",
       "      <td>9</td>\n",
       "      <td>...</td>\n",
       "      <td>XNA</td>\n",
       "      <td>24.0</td>\n",
       "      <td>high</td>\n",
       "      <td>Cash Street: high</td>\n",
       "      <td>NaN</td>\n",
       "      <td>NaN</td>\n",
       "      <td>NaN</td>\n",
       "      <td>NaN</td>\n",
       "      <td>NaN</td>\n",
       "      <td>NaN</td>\n",
       "    </tr>\n",
       "  </tbody>\n",
       "</table>\n",
       "<p>5 rows × 37 columns</p>\n",
       "</div>"
      ],
      "text/plain": [
       "   SK_ID_PREV  SK_ID_CURR NAME_CONTRACT_TYPE  AMT_ANNUITY  AMT_APPLICATION  \\\n",
       "0     2030495      271877     Consumer loans     1730.430          17145.0   \n",
       "1     2802425      108129         Cash loans    25188.615         607500.0   \n",
       "2     2523466      122040         Cash loans    15060.735         112500.0   \n",
       "3     2819243      176158         Cash loans    47041.335         450000.0   \n",
       "4     1784265      202054         Cash loans    31924.395         337500.0   \n",
       "\n",
       "   AMT_CREDIT  AMT_DOWN_PAYMENT  AMT_GOODS_PRICE WEEKDAY_APPR_PROCESS_START  \\\n",
       "0     17145.0               0.0          17145.0                   SATURDAY   \n",
       "1    679671.0               NaN         607500.0                   THURSDAY   \n",
       "2    136444.5               NaN         112500.0                    TUESDAY   \n",
       "3    470790.0               NaN         450000.0                     MONDAY   \n",
       "4    404055.0               NaN         337500.0                   THURSDAY   \n",
       "\n",
       "   HOUR_APPR_PROCESS_START  ... NAME_SELLER_INDUSTRY  CNT_PAYMENT  \\\n",
       "0                       15  ...         Connectivity         12.0   \n",
       "1                       11  ...                  XNA         36.0   \n",
       "2                       11  ...                  XNA         12.0   \n",
       "3                        7  ...                  XNA         12.0   \n",
       "4                        9  ...                  XNA         24.0   \n",
       "\n",
       "   NAME_YIELD_GROUP       PRODUCT_COMBINATION  DAYS_FIRST_DRAWING  \\\n",
       "0            middle  POS mobile with interest            365243.0   \n",
       "1        low_action          Cash X-Sell: low            365243.0   \n",
       "2              high         Cash X-Sell: high            365243.0   \n",
       "3            middle       Cash X-Sell: middle            365243.0   \n",
       "4              high         Cash Street: high                 NaN   \n",
       "\n",
       "  DAYS_FIRST_DUE DAYS_LAST_DUE_1ST_VERSION  DAYS_LAST_DUE DAYS_TERMINATION  \\\n",
       "0          -42.0                     300.0          -42.0            -37.0   \n",
       "1         -134.0                     916.0       365243.0         365243.0   \n",
       "2         -271.0                      59.0       365243.0         365243.0   \n",
       "3         -482.0                    -152.0         -182.0           -177.0   \n",
       "4            NaN                       NaN            NaN              NaN   \n",
       "\n",
       "  NFLAG_INSURED_ON_APPROVAL  \n",
       "0                       0.0  \n",
       "1                       1.0  \n",
       "2                       1.0  \n",
       "3                       1.0  \n",
       "4                       NaN  \n",
       "\n",
       "[5 rows x 37 columns]"
      ]
     },
     "execution_count": 2,
     "metadata": {},
     "output_type": "execute_result"
    }
   ],
   "source": [
    "import warnings \n",
    "warnings.filterwarnings(\"ignore\")\n",
    "\n",
    "import numpy as np\n",
    "import pandas as pd\n",
    "import seaborn as sns\n",
    "import matplotlib.pyplot as plt \n",
    "%matplotlib inline\n",
    "\n",
    "prev_data = pd.read_csv(\"previous_application.csv\")\n",
    "prev_data.head(5)"
   ]
  },
  {
   "cell_type": "code",
   "execution_count": 3,
   "id": "80c77657",
   "metadata": {},
   "outputs": [
    {
     "name": "stdout",
     "output_type": "stream",
     "text": [
      "<class 'pandas.core.frame.DataFrame'>\n",
      "RangeIndex: 1670214 entries, 0 to 1670213\n",
      "Data columns (total 37 columns):\n",
      " #   Column                       Non-Null Count    Dtype  \n",
      "---  ------                       --------------    -----  \n",
      " 0   SK_ID_PREV                   1670214 non-null  int64  \n",
      " 1   SK_ID_CURR                   1670214 non-null  int64  \n",
      " 2   NAME_CONTRACT_TYPE           1670214 non-null  object \n",
      " 3   AMT_ANNUITY                  1297979 non-null  float64\n",
      " 4   AMT_APPLICATION              1670214 non-null  float64\n",
      " 5   AMT_CREDIT                   1670213 non-null  float64\n",
      " 6   AMT_DOWN_PAYMENT             774370 non-null   float64\n",
      " 7   AMT_GOODS_PRICE              1284699 non-null  float64\n",
      " 8   WEEKDAY_APPR_PROCESS_START   1670214 non-null  object \n",
      " 9   HOUR_APPR_PROCESS_START      1670214 non-null  int64  \n",
      " 10  FLAG_LAST_APPL_PER_CONTRACT  1670214 non-null  object \n",
      " 11  NFLAG_LAST_APPL_IN_DAY       1670214 non-null  int64  \n",
      " 12  RATE_DOWN_PAYMENT            774370 non-null   float64\n",
      " 13  RATE_INTEREST_PRIMARY        5951 non-null     float64\n",
      " 14  RATE_INTEREST_PRIVILEGED     5951 non-null     float64\n",
      " 15  NAME_CASH_LOAN_PURPOSE       1670214 non-null  object \n",
      " 16  NAME_CONTRACT_STATUS         1670214 non-null  object \n",
      " 17  DAYS_DECISION                1670214 non-null  int64  \n",
      " 18  NAME_PAYMENT_TYPE            1670214 non-null  object \n",
      " 19  CODE_REJECT_REASON           1670214 non-null  object \n",
      " 20  NAME_TYPE_SUITE              849809 non-null   object \n",
      " 21  NAME_CLIENT_TYPE             1670214 non-null  object \n",
      " 22  NAME_GOODS_CATEGORY          1670214 non-null  object \n",
      " 23  NAME_PORTFOLIO               1670214 non-null  object \n",
      " 24  NAME_PRODUCT_TYPE            1670214 non-null  object \n",
      " 25  CHANNEL_TYPE                 1670214 non-null  object \n",
      " 26  SELLERPLACE_AREA             1670214 non-null  int64  \n",
      " 27  NAME_SELLER_INDUSTRY         1670214 non-null  object \n",
      " 28  CNT_PAYMENT                  1297984 non-null  float64\n",
      " 29  NAME_YIELD_GROUP             1670214 non-null  object \n",
      " 30  PRODUCT_COMBINATION          1669868 non-null  object \n",
      " 31  DAYS_FIRST_DRAWING           997149 non-null   float64\n",
      " 32  DAYS_FIRST_DUE               997149 non-null   float64\n",
      " 33  DAYS_LAST_DUE_1ST_VERSION    997149 non-null   float64\n",
      " 34  DAYS_LAST_DUE                997149 non-null   float64\n",
      " 35  DAYS_TERMINATION             997149 non-null   float64\n",
      " 36  NFLAG_INSURED_ON_APPROVAL    997149 non-null   float64\n",
      "dtypes: float64(15), int64(6), object(16)\n",
      "memory usage: 471.5+ MB\n"
     ]
    }
   ],
   "source": [
    "prev_data.info(verbose=True)"
   ]
  },
  {
   "cell_type": "code",
   "execution_count": 4,
   "id": "04cfee00",
   "metadata": {},
   "outputs": [
    {
     "data": {
      "text/plain": [
       "(1670214, 37)"
      ]
     },
     "execution_count": 4,
     "metadata": {},
     "output_type": "execute_result"
    }
   ],
   "source": [
    "prev_data.shape"
   ]
  },
  {
   "cell_type": "code",
   "execution_count": 5,
   "id": "eece63a5",
   "metadata": {},
   "outputs": [
    {
     "data": {
      "text/html": [
       "<div>\n",
       "<style scoped>\n",
       "    .dataframe tbody tr th:only-of-type {\n",
       "        vertical-align: middle;\n",
       "    }\n",
       "\n",
       "    .dataframe tbody tr th {\n",
       "        vertical-align: top;\n",
       "    }\n",
       "\n",
       "    .dataframe thead th {\n",
       "        text-align: right;\n",
       "    }\n",
       "</style>\n",
       "<table border=\"1\" class=\"dataframe\">\n",
       "  <thead>\n",
       "    <tr style=\"text-align: right;\">\n",
       "      <th></th>\n",
       "      <th>SK_ID_PREV</th>\n",
       "      <th>SK_ID_CURR</th>\n",
       "      <th>AMT_ANNUITY</th>\n",
       "      <th>AMT_APPLICATION</th>\n",
       "      <th>AMT_CREDIT</th>\n",
       "      <th>AMT_DOWN_PAYMENT</th>\n",
       "      <th>AMT_GOODS_PRICE</th>\n",
       "      <th>HOUR_APPR_PROCESS_START</th>\n",
       "      <th>NFLAG_LAST_APPL_IN_DAY</th>\n",
       "      <th>RATE_DOWN_PAYMENT</th>\n",
       "      <th>...</th>\n",
       "      <th>RATE_INTEREST_PRIVILEGED</th>\n",
       "      <th>DAYS_DECISION</th>\n",
       "      <th>SELLERPLACE_AREA</th>\n",
       "      <th>CNT_PAYMENT</th>\n",
       "      <th>DAYS_FIRST_DRAWING</th>\n",
       "      <th>DAYS_FIRST_DUE</th>\n",
       "      <th>DAYS_LAST_DUE_1ST_VERSION</th>\n",
       "      <th>DAYS_LAST_DUE</th>\n",
       "      <th>DAYS_TERMINATION</th>\n",
       "      <th>NFLAG_INSURED_ON_APPROVAL</th>\n",
       "    </tr>\n",
       "  </thead>\n",
       "  <tbody>\n",
       "    <tr>\n",
       "      <th>count</th>\n",
       "      <td>1.670214e+06</td>\n",
       "      <td>1.670214e+06</td>\n",
       "      <td>1.297979e+06</td>\n",
       "      <td>1.670214e+06</td>\n",
       "      <td>1.670213e+06</td>\n",
       "      <td>7.743700e+05</td>\n",
       "      <td>1.284699e+06</td>\n",
       "      <td>1.670214e+06</td>\n",
       "      <td>1.670214e+06</td>\n",
       "      <td>774370.000000</td>\n",
       "      <td>...</td>\n",
       "      <td>5951.000000</td>\n",
       "      <td>1.670214e+06</td>\n",
       "      <td>1.670214e+06</td>\n",
       "      <td>1.297984e+06</td>\n",
       "      <td>997149.000000</td>\n",
       "      <td>997149.000000</td>\n",
       "      <td>997149.000000</td>\n",
       "      <td>997149.000000</td>\n",
       "      <td>997149.000000</td>\n",
       "      <td>997149.000000</td>\n",
       "    </tr>\n",
       "    <tr>\n",
       "      <th>mean</th>\n",
       "      <td>1.923089e+06</td>\n",
       "      <td>2.783572e+05</td>\n",
       "      <td>1.595512e+04</td>\n",
       "      <td>1.752339e+05</td>\n",
       "      <td>1.961140e+05</td>\n",
       "      <td>6.697402e+03</td>\n",
       "      <td>2.278473e+05</td>\n",
       "      <td>1.248418e+01</td>\n",
       "      <td>9.964675e-01</td>\n",
       "      <td>0.079637</td>\n",
       "      <td>...</td>\n",
       "      <td>0.773503</td>\n",
       "      <td>-8.806797e+02</td>\n",
       "      <td>3.139511e+02</td>\n",
       "      <td>1.605408e+01</td>\n",
       "      <td>342209.855039</td>\n",
       "      <td>13826.269337</td>\n",
       "      <td>33767.774054</td>\n",
       "      <td>76582.403064</td>\n",
       "      <td>81992.343838</td>\n",
       "      <td>0.332570</td>\n",
       "    </tr>\n",
       "    <tr>\n",
       "      <th>std</th>\n",
       "      <td>5.325980e+05</td>\n",
       "      <td>1.028148e+05</td>\n",
       "      <td>1.478214e+04</td>\n",
       "      <td>2.927798e+05</td>\n",
       "      <td>3.185746e+05</td>\n",
       "      <td>2.092150e+04</td>\n",
       "      <td>3.153966e+05</td>\n",
       "      <td>3.334028e+00</td>\n",
       "      <td>5.932963e-02</td>\n",
       "      <td>0.107823</td>\n",
       "      <td>...</td>\n",
       "      <td>0.100879</td>\n",
       "      <td>7.790997e+02</td>\n",
       "      <td>7.127443e+03</td>\n",
       "      <td>1.456729e+01</td>\n",
       "      <td>88916.115834</td>\n",
       "      <td>72444.869708</td>\n",
       "      <td>106857.034789</td>\n",
       "      <td>149647.415123</td>\n",
       "      <td>153303.516729</td>\n",
       "      <td>0.471134</td>\n",
       "    </tr>\n",
       "    <tr>\n",
       "      <th>min</th>\n",
       "      <td>1.000001e+06</td>\n",
       "      <td>1.000010e+05</td>\n",
       "      <td>0.000000e+00</td>\n",
       "      <td>0.000000e+00</td>\n",
       "      <td>0.000000e+00</td>\n",
       "      <td>-9.000000e-01</td>\n",
       "      <td>0.000000e+00</td>\n",
       "      <td>0.000000e+00</td>\n",
       "      <td>0.000000e+00</td>\n",
       "      <td>-0.000015</td>\n",
       "      <td>...</td>\n",
       "      <td>0.373150</td>\n",
       "      <td>-2.922000e+03</td>\n",
       "      <td>-1.000000e+00</td>\n",
       "      <td>0.000000e+00</td>\n",
       "      <td>-2922.000000</td>\n",
       "      <td>-2892.000000</td>\n",
       "      <td>-2801.000000</td>\n",
       "      <td>-2889.000000</td>\n",
       "      <td>-2874.000000</td>\n",
       "      <td>0.000000</td>\n",
       "    </tr>\n",
       "    <tr>\n",
       "      <th>25%</th>\n",
       "      <td>1.461857e+06</td>\n",
       "      <td>1.893290e+05</td>\n",
       "      <td>6.321780e+03</td>\n",
       "      <td>1.872000e+04</td>\n",
       "      <td>2.416050e+04</td>\n",
       "      <td>0.000000e+00</td>\n",
       "      <td>5.084100e+04</td>\n",
       "      <td>1.000000e+01</td>\n",
       "      <td>1.000000e+00</td>\n",
       "      <td>0.000000</td>\n",
       "      <td>...</td>\n",
       "      <td>0.715645</td>\n",
       "      <td>-1.300000e+03</td>\n",
       "      <td>-1.000000e+00</td>\n",
       "      <td>6.000000e+00</td>\n",
       "      <td>365243.000000</td>\n",
       "      <td>-1628.000000</td>\n",
       "      <td>-1242.000000</td>\n",
       "      <td>-1314.000000</td>\n",
       "      <td>-1270.000000</td>\n",
       "      <td>0.000000</td>\n",
       "    </tr>\n",
       "    <tr>\n",
       "      <th>50%</th>\n",
       "      <td>1.923110e+06</td>\n",
       "      <td>2.787145e+05</td>\n",
       "      <td>1.125000e+04</td>\n",
       "      <td>7.104600e+04</td>\n",
       "      <td>8.054100e+04</td>\n",
       "      <td>1.638000e+03</td>\n",
       "      <td>1.123200e+05</td>\n",
       "      <td>1.200000e+01</td>\n",
       "      <td>1.000000e+00</td>\n",
       "      <td>0.051605</td>\n",
       "      <td>...</td>\n",
       "      <td>0.835095</td>\n",
       "      <td>-5.810000e+02</td>\n",
       "      <td>3.000000e+00</td>\n",
       "      <td>1.200000e+01</td>\n",
       "      <td>365243.000000</td>\n",
       "      <td>-831.000000</td>\n",
       "      <td>-361.000000</td>\n",
       "      <td>-537.000000</td>\n",
       "      <td>-499.000000</td>\n",
       "      <td>0.000000</td>\n",
       "    </tr>\n",
       "    <tr>\n",
       "      <th>75%</th>\n",
       "      <td>2.384280e+06</td>\n",
       "      <td>3.675140e+05</td>\n",
       "      <td>2.065842e+04</td>\n",
       "      <td>1.803600e+05</td>\n",
       "      <td>2.164185e+05</td>\n",
       "      <td>7.740000e+03</td>\n",
       "      <td>2.340000e+05</td>\n",
       "      <td>1.500000e+01</td>\n",
       "      <td>1.000000e+00</td>\n",
       "      <td>0.108909</td>\n",
       "      <td>...</td>\n",
       "      <td>0.852537</td>\n",
       "      <td>-2.800000e+02</td>\n",
       "      <td>8.200000e+01</td>\n",
       "      <td>2.400000e+01</td>\n",
       "      <td>365243.000000</td>\n",
       "      <td>-411.000000</td>\n",
       "      <td>129.000000</td>\n",
       "      <td>-74.000000</td>\n",
       "      <td>-44.000000</td>\n",
       "      <td>1.000000</td>\n",
       "    </tr>\n",
       "    <tr>\n",
       "      <th>max</th>\n",
       "      <td>2.845382e+06</td>\n",
       "      <td>4.562550e+05</td>\n",
       "      <td>4.180581e+05</td>\n",
       "      <td>6.905160e+06</td>\n",
       "      <td>6.905160e+06</td>\n",
       "      <td>3.060045e+06</td>\n",
       "      <td>6.905160e+06</td>\n",
       "      <td>2.300000e+01</td>\n",
       "      <td>1.000000e+00</td>\n",
       "      <td>1.000000</td>\n",
       "      <td>...</td>\n",
       "      <td>1.000000</td>\n",
       "      <td>-1.000000e+00</td>\n",
       "      <td>4.000000e+06</td>\n",
       "      <td>8.400000e+01</td>\n",
       "      <td>365243.000000</td>\n",
       "      <td>365243.000000</td>\n",
       "      <td>365243.000000</td>\n",
       "      <td>365243.000000</td>\n",
       "      <td>365243.000000</td>\n",
       "      <td>1.000000</td>\n",
       "    </tr>\n",
       "  </tbody>\n",
       "</table>\n",
       "<p>8 rows × 21 columns</p>\n",
       "</div>"
      ],
      "text/plain": [
       "         SK_ID_PREV    SK_ID_CURR   AMT_ANNUITY  AMT_APPLICATION  \\\n",
       "count  1.670214e+06  1.670214e+06  1.297979e+06     1.670214e+06   \n",
       "mean   1.923089e+06  2.783572e+05  1.595512e+04     1.752339e+05   \n",
       "std    5.325980e+05  1.028148e+05  1.478214e+04     2.927798e+05   \n",
       "min    1.000001e+06  1.000010e+05  0.000000e+00     0.000000e+00   \n",
       "25%    1.461857e+06  1.893290e+05  6.321780e+03     1.872000e+04   \n",
       "50%    1.923110e+06  2.787145e+05  1.125000e+04     7.104600e+04   \n",
       "75%    2.384280e+06  3.675140e+05  2.065842e+04     1.803600e+05   \n",
       "max    2.845382e+06  4.562550e+05  4.180581e+05     6.905160e+06   \n",
       "\n",
       "         AMT_CREDIT  AMT_DOWN_PAYMENT  AMT_GOODS_PRICE  \\\n",
       "count  1.670213e+06      7.743700e+05     1.284699e+06   \n",
       "mean   1.961140e+05      6.697402e+03     2.278473e+05   \n",
       "std    3.185746e+05      2.092150e+04     3.153966e+05   \n",
       "min    0.000000e+00     -9.000000e-01     0.000000e+00   \n",
       "25%    2.416050e+04      0.000000e+00     5.084100e+04   \n",
       "50%    8.054100e+04      1.638000e+03     1.123200e+05   \n",
       "75%    2.164185e+05      7.740000e+03     2.340000e+05   \n",
       "max    6.905160e+06      3.060045e+06     6.905160e+06   \n",
       "\n",
       "       HOUR_APPR_PROCESS_START  NFLAG_LAST_APPL_IN_DAY  RATE_DOWN_PAYMENT  \\\n",
       "count             1.670214e+06            1.670214e+06      774370.000000   \n",
       "mean              1.248418e+01            9.964675e-01           0.079637   \n",
       "std               3.334028e+00            5.932963e-02           0.107823   \n",
       "min               0.000000e+00            0.000000e+00          -0.000015   \n",
       "25%               1.000000e+01            1.000000e+00           0.000000   \n",
       "50%               1.200000e+01            1.000000e+00           0.051605   \n",
       "75%               1.500000e+01            1.000000e+00           0.108909   \n",
       "max               2.300000e+01            1.000000e+00           1.000000   \n",
       "\n",
       "       ...  RATE_INTEREST_PRIVILEGED  DAYS_DECISION  SELLERPLACE_AREA  \\\n",
       "count  ...               5951.000000   1.670214e+06      1.670214e+06   \n",
       "mean   ...                  0.773503  -8.806797e+02      3.139511e+02   \n",
       "std    ...                  0.100879   7.790997e+02      7.127443e+03   \n",
       "min    ...                  0.373150  -2.922000e+03     -1.000000e+00   \n",
       "25%    ...                  0.715645  -1.300000e+03     -1.000000e+00   \n",
       "50%    ...                  0.835095  -5.810000e+02      3.000000e+00   \n",
       "75%    ...                  0.852537  -2.800000e+02      8.200000e+01   \n",
       "max    ...                  1.000000  -1.000000e+00      4.000000e+06   \n",
       "\n",
       "        CNT_PAYMENT  DAYS_FIRST_DRAWING  DAYS_FIRST_DUE  \\\n",
       "count  1.297984e+06       997149.000000   997149.000000   \n",
       "mean   1.605408e+01       342209.855039    13826.269337   \n",
       "std    1.456729e+01        88916.115834    72444.869708   \n",
       "min    0.000000e+00        -2922.000000    -2892.000000   \n",
       "25%    6.000000e+00       365243.000000    -1628.000000   \n",
       "50%    1.200000e+01       365243.000000     -831.000000   \n",
       "75%    2.400000e+01       365243.000000     -411.000000   \n",
       "max    8.400000e+01       365243.000000   365243.000000   \n",
       "\n",
       "       DAYS_LAST_DUE_1ST_VERSION  DAYS_LAST_DUE  DAYS_TERMINATION  \\\n",
       "count              997149.000000  997149.000000     997149.000000   \n",
       "mean                33767.774054   76582.403064      81992.343838   \n",
       "std                106857.034789  149647.415123     153303.516729   \n",
       "min                 -2801.000000   -2889.000000      -2874.000000   \n",
       "25%                 -1242.000000   -1314.000000      -1270.000000   \n",
       "50%                  -361.000000    -537.000000       -499.000000   \n",
       "75%                   129.000000     -74.000000        -44.000000   \n",
       "max                365243.000000  365243.000000     365243.000000   \n",
       "\n",
       "       NFLAG_INSURED_ON_APPROVAL  \n",
       "count              997149.000000  \n",
       "mean                    0.332570  \n",
       "std                     0.471134  \n",
       "min                     0.000000  \n",
       "25%                     0.000000  \n",
       "50%                     0.000000  \n",
       "75%                     1.000000  \n",
       "max                     1.000000  \n",
       "\n",
       "[8 rows x 21 columns]"
      ]
     },
     "execution_count": 5,
     "metadata": {},
     "output_type": "execute_result"
    }
   ],
   "source": [
    "prev_data.describe()"
   ]
  },
  {
   "cell_type": "markdown",
   "id": "79af9101",
   "metadata": {},
   "source": [
    "1. missing value check \n",
    "2. Outlier\n",
    "3. set of max 5 features and analyse \n",
    "4. univariate analysis - stand alone - no target value \n",
    "5. bivariate analysis - name contract status is target column \n",
    "6. no segmented \n",
    "7. no multivariate \n",
    "8. merging app_data and prev_app_data on skcurrent ID - inner join \n",
    "from application data take only 2 columns - skcurrent id and target and from prev application data take 5 features/take all. \n",
    "9. Analyse by univariate and bivariate. \n",
    "10. Make ppt for the steps u did and mention conclusions, assumptions, reasons, results. \n",
    "11. convert ppt - ppt\n",
    "12. select top 10 correlations from heatmap - for both data \n",
    "13. Upload zip file in upgrad portal"
   ]
  },
  {
   "cell_type": "code",
   "execution_count": 6,
   "id": "849d6f91",
   "metadata": {},
   "outputs": [
    {
     "data": {
      "text/plain": [
       "SK_ID_PREV                       int64\n",
       "SK_ID_CURR                       int64\n",
       "NAME_CONTRACT_TYPE              object\n",
       "AMT_ANNUITY                    float64\n",
       "AMT_APPLICATION                float64\n",
       "AMT_CREDIT                     float64\n",
       "AMT_DOWN_PAYMENT               float64\n",
       "AMT_GOODS_PRICE                float64\n",
       "WEEKDAY_APPR_PROCESS_START      object\n",
       "HOUR_APPR_PROCESS_START          int64\n",
       "FLAG_LAST_APPL_PER_CONTRACT     object\n",
       "NFLAG_LAST_APPL_IN_DAY           int64\n",
       "RATE_DOWN_PAYMENT              float64\n",
       "RATE_INTEREST_PRIMARY          float64\n",
       "RATE_INTEREST_PRIVILEGED       float64\n",
       "NAME_CASH_LOAN_PURPOSE          object\n",
       "NAME_CONTRACT_STATUS            object\n",
       "DAYS_DECISION                    int64\n",
       "NAME_PAYMENT_TYPE               object\n",
       "CODE_REJECT_REASON              object\n",
       "NAME_TYPE_SUITE                 object\n",
       "NAME_CLIENT_TYPE                object\n",
       "NAME_GOODS_CATEGORY             object\n",
       "NAME_PORTFOLIO                  object\n",
       "NAME_PRODUCT_TYPE               object\n",
       "CHANNEL_TYPE                    object\n",
       "SELLERPLACE_AREA                 int64\n",
       "NAME_SELLER_INDUSTRY            object\n",
       "CNT_PAYMENT                    float64\n",
       "NAME_YIELD_GROUP                object\n",
       "PRODUCT_COMBINATION             object\n",
       "DAYS_FIRST_DRAWING             float64\n",
       "DAYS_FIRST_DUE                 float64\n",
       "DAYS_LAST_DUE_1ST_VERSION      float64\n",
       "DAYS_LAST_DUE                  float64\n",
       "DAYS_TERMINATION               float64\n",
       "NFLAG_INSURED_ON_APPROVAL      float64\n",
       "dtype: object"
      ]
     },
     "execution_count": 6,
     "metadata": {},
     "output_type": "execute_result"
    }
   ],
   "source": [
    "prev_data.dtypes"
   ]
  },
  {
   "cell_type": "code",
   "execution_count": 7,
   "id": "d5e3d357",
   "metadata": {},
   "outputs": [
    {
     "data": {
      "text/plain": [
       "SK_ID_PREV                           0\n",
       "SK_ID_CURR                           0\n",
       "NAME_CONTRACT_TYPE                   0\n",
       "AMT_ANNUITY                     372235\n",
       "AMT_APPLICATION                      0\n",
       "AMT_CREDIT                           1\n",
       "AMT_DOWN_PAYMENT                895844\n",
       "AMT_GOODS_PRICE                 385515\n",
       "WEEKDAY_APPR_PROCESS_START           0\n",
       "HOUR_APPR_PROCESS_START              0\n",
       "FLAG_LAST_APPL_PER_CONTRACT          0\n",
       "NFLAG_LAST_APPL_IN_DAY               0\n",
       "RATE_DOWN_PAYMENT               895844\n",
       "RATE_INTEREST_PRIMARY          1664263\n",
       "RATE_INTEREST_PRIVILEGED       1664263\n",
       "NAME_CASH_LOAN_PURPOSE               0\n",
       "NAME_CONTRACT_STATUS                 0\n",
       "DAYS_DECISION                        0\n",
       "NAME_PAYMENT_TYPE                    0\n",
       "CODE_REJECT_REASON                   0\n",
       "NAME_TYPE_SUITE                 820405\n",
       "NAME_CLIENT_TYPE                     0\n",
       "NAME_GOODS_CATEGORY                  0\n",
       "NAME_PORTFOLIO                       0\n",
       "NAME_PRODUCT_TYPE                    0\n",
       "CHANNEL_TYPE                         0\n",
       "SELLERPLACE_AREA                     0\n",
       "NAME_SELLER_INDUSTRY                 0\n",
       "CNT_PAYMENT                     372230\n",
       "NAME_YIELD_GROUP                     0\n",
       "PRODUCT_COMBINATION                346\n",
       "DAYS_FIRST_DRAWING              673065\n",
       "DAYS_FIRST_DUE                  673065\n",
       "DAYS_LAST_DUE_1ST_VERSION       673065\n",
       "DAYS_LAST_DUE                   673065\n",
       "DAYS_TERMINATION                673065\n",
       "NFLAG_INSURED_ON_APPROVAL       673065\n",
       "dtype: int64"
      ]
     },
     "execution_count": 7,
     "metadata": {},
     "output_type": "execute_result"
    }
   ],
   "source": [
    "prev_data.isnull().sum()"
   ]
  },
  {
   "cell_type": "code",
   "execution_count": 8,
   "id": "6c2d4123",
   "metadata": {},
   "outputs": [
    {
     "data": {
      "text/plain": [
       "SK_ID_PREV                      0.000000\n",
       "SK_ID_CURR                      0.000000\n",
       "NAME_CONTRACT_TYPE              0.000000\n",
       "AMT_ANNUITY                    22.286665\n",
       "AMT_APPLICATION                 0.000000\n",
       "AMT_CREDIT                      0.000060\n",
       "AMT_DOWN_PAYMENT               53.636480\n",
       "AMT_GOODS_PRICE                23.081773\n",
       "WEEKDAY_APPR_PROCESS_START      0.000000\n",
       "HOUR_APPR_PROCESS_START         0.000000\n",
       "FLAG_LAST_APPL_PER_CONTRACT     0.000000\n",
       "NFLAG_LAST_APPL_IN_DAY          0.000000\n",
       "RATE_DOWN_PAYMENT              53.636480\n",
       "RATE_INTEREST_PRIMARY          99.643698\n",
       "RATE_INTEREST_PRIVILEGED       99.643698\n",
       "NAME_CASH_LOAN_PURPOSE          0.000000\n",
       "NAME_CONTRACT_STATUS            0.000000\n",
       "DAYS_DECISION                   0.000000\n",
       "NAME_PAYMENT_TYPE               0.000000\n",
       "CODE_REJECT_REASON              0.000000\n",
       "NAME_TYPE_SUITE                49.119754\n",
       "NAME_CLIENT_TYPE                0.000000\n",
       "NAME_GOODS_CATEGORY             0.000000\n",
       "NAME_PORTFOLIO                  0.000000\n",
       "NAME_PRODUCT_TYPE               0.000000\n",
       "CHANNEL_TYPE                    0.000000\n",
       "SELLERPLACE_AREA                0.000000\n",
       "NAME_SELLER_INDUSTRY            0.000000\n",
       "CNT_PAYMENT                    22.286366\n",
       "NAME_YIELD_GROUP                0.000000\n",
       "PRODUCT_COMBINATION             0.020716\n",
       "DAYS_FIRST_DRAWING             40.298129\n",
       "DAYS_FIRST_DUE                 40.298129\n",
       "DAYS_LAST_DUE_1ST_VERSION      40.298129\n",
       "DAYS_LAST_DUE                  40.298129\n",
       "DAYS_TERMINATION               40.298129\n",
       "NFLAG_INSURED_ON_APPROVAL      40.298129\n",
       "dtype: float64"
      ]
     },
     "execution_count": 8,
     "metadata": {},
     "output_type": "execute_result"
    }
   ],
   "source": [
    "percentage_missing = prev_data.isnull().sum() * 100 / len(prev_data)\n",
    "percentage_missing"
   ]
  },
  {
   "cell_type": "code",
   "execution_count": 9,
   "id": "47b1c26e",
   "metadata": {},
   "outputs": [],
   "source": [
    "prev_data.drop(['AMT_DOWN_PAYMENT','RATE_DOWN_PAYMENT','RATE_INTEREST_PRIMARY','RATE_INTEREST_PRIVILEGED','NAME_TYPE_SUITE','DAYS_FIRST_DRAWING','DAYS_FIRST_DUE','DAYS_LAST_DUE_1ST_VERSION','DAYS_LAST_DUE','DAYS_TERMINATION','NFLAG_INSURED_ON_APPROVAL'], axis = 1,inplace=True)\n"
   ]
  },
  {
   "cell_type": "code",
   "execution_count": 10,
   "id": "6010f233",
   "metadata": {},
   "outputs": [
    {
     "data": {
      "text/plain": [
       "SK_ID_PREV                      0.000000\n",
       "SK_ID_CURR                      0.000000\n",
       "NAME_CONTRACT_TYPE              0.000000\n",
       "AMT_ANNUITY                    22.286665\n",
       "AMT_APPLICATION                 0.000000\n",
       "AMT_CREDIT                      0.000060\n",
       "AMT_GOODS_PRICE                23.081773\n",
       "WEEKDAY_APPR_PROCESS_START      0.000000\n",
       "HOUR_APPR_PROCESS_START         0.000000\n",
       "FLAG_LAST_APPL_PER_CONTRACT     0.000000\n",
       "NFLAG_LAST_APPL_IN_DAY          0.000000\n",
       "NAME_CASH_LOAN_PURPOSE          0.000000\n",
       "NAME_CONTRACT_STATUS            0.000000\n",
       "DAYS_DECISION                   0.000000\n",
       "NAME_PAYMENT_TYPE               0.000000\n",
       "CODE_REJECT_REASON              0.000000\n",
       "NAME_CLIENT_TYPE                0.000000\n",
       "NAME_GOODS_CATEGORY             0.000000\n",
       "NAME_PORTFOLIO                  0.000000\n",
       "NAME_PRODUCT_TYPE               0.000000\n",
       "CHANNEL_TYPE                    0.000000\n",
       "SELLERPLACE_AREA                0.000000\n",
       "NAME_SELLER_INDUSTRY            0.000000\n",
       "CNT_PAYMENT                    22.286366\n",
       "NAME_YIELD_GROUP                0.000000\n",
       "PRODUCT_COMBINATION             0.020716\n",
       "dtype: float64"
      ]
     },
     "execution_count": 10,
     "metadata": {},
     "output_type": "execute_result"
    }
   ],
   "source": [
    "prev_data.isnull().sum() * 100 / len(prev_data)"
   ]
  },
  {
   "cell_type": "code",
   "execution_count": 11,
   "id": "1fb435a7",
   "metadata": {},
   "outputs": [
    {
     "data": {
      "text/plain": [
       "(1670214, 26)"
      ]
     },
     "execution_count": 11,
     "metadata": {},
     "output_type": "execute_result"
    }
   ],
   "source": [
    "prev_data.shape"
   ]
  },
  {
   "cell_type": "code",
   "execution_count": 12,
   "id": "b40bf6e5",
   "metadata": {},
   "outputs": [
    {
     "data": {
      "text/html": [
       "<div>\n",
       "<style scoped>\n",
       "    .dataframe tbody tr th:only-of-type {\n",
       "        vertical-align: middle;\n",
       "    }\n",
       "\n",
       "    .dataframe tbody tr th {\n",
       "        vertical-align: top;\n",
       "    }\n",
       "\n",
       "    .dataframe thead th {\n",
       "        text-align: right;\n",
       "    }\n",
       "</style>\n",
       "<table border=\"1\" class=\"dataframe\">\n",
       "  <thead>\n",
       "    <tr style=\"text-align: right;\">\n",
       "      <th></th>\n",
       "      <th>SK_ID_PREV</th>\n",
       "      <th>SK_ID_CURR</th>\n",
       "      <th>AMT_ANNUITY</th>\n",
       "      <th>AMT_APPLICATION</th>\n",
       "      <th>AMT_CREDIT</th>\n",
       "      <th>AMT_GOODS_PRICE</th>\n",
       "      <th>HOUR_APPR_PROCESS_START</th>\n",
       "      <th>NFLAG_LAST_APPL_IN_DAY</th>\n",
       "      <th>DAYS_DECISION</th>\n",
       "      <th>SELLERPLACE_AREA</th>\n",
       "      <th>CNT_PAYMENT</th>\n",
       "    </tr>\n",
       "  </thead>\n",
       "  <tbody>\n",
       "    <tr>\n",
       "      <th>count</th>\n",
       "      <td>1.670214e+06</td>\n",
       "      <td>1.670214e+06</td>\n",
       "      <td>1.297979e+06</td>\n",
       "      <td>1.670214e+06</td>\n",
       "      <td>1.670213e+06</td>\n",
       "      <td>1.284699e+06</td>\n",
       "      <td>1.670214e+06</td>\n",
       "      <td>1.670214e+06</td>\n",
       "      <td>1.670214e+06</td>\n",
       "      <td>1.670214e+06</td>\n",
       "      <td>1.297984e+06</td>\n",
       "    </tr>\n",
       "    <tr>\n",
       "      <th>mean</th>\n",
       "      <td>1.923089e+06</td>\n",
       "      <td>2.783572e+05</td>\n",
       "      <td>1.595512e+04</td>\n",
       "      <td>1.752339e+05</td>\n",
       "      <td>1.961140e+05</td>\n",
       "      <td>2.278473e+05</td>\n",
       "      <td>1.248418e+01</td>\n",
       "      <td>9.964675e-01</td>\n",
       "      <td>-8.806797e+02</td>\n",
       "      <td>3.139511e+02</td>\n",
       "      <td>1.605408e+01</td>\n",
       "    </tr>\n",
       "    <tr>\n",
       "      <th>std</th>\n",
       "      <td>5.325980e+05</td>\n",
       "      <td>1.028148e+05</td>\n",
       "      <td>1.478214e+04</td>\n",
       "      <td>2.927798e+05</td>\n",
       "      <td>3.185746e+05</td>\n",
       "      <td>3.153966e+05</td>\n",
       "      <td>3.334028e+00</td>\n",
       "      <td>5.932963e-02</td>\n",
       "      <td>7.790997e+02</td>\n",
       "      <td>7.127443e+03</td>\n",
       "      <td>1.456729e+01</td>\n",
       "    </tr>\n",
       "    <tr>\n",
       "      <th>min</th>\n",
       "      <td>1.000001e+06</td>\n",
       "      <td>1.000010e+05</td>\n",
       "      <td>0.000000e+00</td>\n",
       "      <td>0.000000e+00</td>\n",
       "      <td>0.000000e+00</td>\n",
       "      <td>0.000000e+00</td>\n",
       "      <td>0.000000e+00</td>\n",
       "      <td>0.000000e+00</td>\n",
       "      <td>-2.922000e+03</td>\n",
       "      <td>-1.000000e+00</td>\n",
       "      <td>0.000000e+00</td>\n",
       "    </tr>\n",
       "    <tr>\n",
       "      <th>25%</th>\n",
       "      <td>1.461857e+06</td>\n",
       "      <td>1.893290e+05</td>\n",
       "      <td>6.321780e+03</td>\n",
       "      <td>1.872000e+04</td>\n",
       "      <td>2.416050e+04</td>\n",
       "      <td>5.084100e+04</td>\n",
       "      <td>1.000000e+01</td>\n",
       "      <td>1.000000e+00</td>\n",
       "      <td>-1.300000e+03</td>\n",
       "      <td>-1.000000e+00</td>\n",
       "      <td>6.000000e+00</td>\n",
       "    </tr>\n",
       "    <tr>\n",
       "      <th>50%</th>\n",
       "      <td>1.923110e+06</td>\n",
       "      <td>2.787145e+05</td>\n",
       "      <td>1.125000e+04</td>\n",
       "      <td>7.104600e+04</td>\n",
       "      <td>8.054100e+04</td>\n",
       "      <td>1.123200e+05</td>\n",
       "      <td>1.200000e+01</td>\n",
       "      <td>1.000000e+00</td>\n",
       "      <td>-5.810000e+02</td>\n",
       "      <td>3.000000e+00</td>\n",
       "      <td>1.200000e+01</td>\n",
       "    </tr>\n",
       "    <tr>\n",
       "      <th>75%</th>\n",
       "      <td>2.384280e+06</td>\n",
       "      <td>3.675140e+05</td>\n",
       "      <td>2.065842e+04</td>\n",
       "      <td>1.803600e+05</td>\n",
       "      <td>2.164185e+05</td>\n",
       "      <td>2.340000e+05</td>\n",
       "      <td>1.500000e+01</td>\n",
       "      <td>1.000000e+00</td>\n",
       "      <td>-2.800000e+02</td>\n",
       "      <td>8.200000e+01</td>\n",
       "      <td>2.400000e+01</td>\n",
       "    </tr>\n",
       "    <tr>\n",
       "      <th>max</th>\n",
       "      <td>2.845382e+06</td>\n",
       "      <td>4.562550e+05</td>\n",
       "      <td>4.180581e+05</td>\n",
       "      <td>6.905160e+06</td>\n",
       "      <td>6.905160e+06</td>\n",
       "      <td>6.905160e+06</td>\n",
       "      <td>2.300000e+01</td>\n",
       "      <td>1.000000e+00</td>\n",
       "      <td>-1.000000e+00</td>\n",
       "      <td>4.000000e+06</td>\n",
       "      <td>8.400000e+01</td>\n",
       "    </tr>\n",
       "  </tbody>\n",
       "</table>\n",
       "</div>"
      ],
      "text/plain": [
       "         SK_ID_PREV    SK_ID_CURR   AMT_ANNUITY  AMT_APPLICATION  \\\n",
       "count  1.670214e+06  1.670214e+06  1.297979e+06     1.670214e+06   \n",
       "mean   1.923089e+06  2.783572e+05  1.595512e+04     1.752339e+05   \n",
       "std    5.325980e+05  1.028148e+05  1.478214e+04     2.927798e+05   \n",
       "min    1.000001e+06  1.000010e+05  0.000000e+00     0.000000e+00   \n",
       "25%    1.461857e+06  1.893290e+05  6.321780e+03     1.872000e+04   \n",
       "50%    1.923110e+06  2.787145e+05  1.125000e+04     7.104600e+04   \n",
       "75%    2.384280e+06  3.675140e+05  2.065842e+04     1.803600e+05   \n",
       "max    2.845382e+06  4.562550e+05  4.180581e+05     6.905160e+06   \n",
       "\n",
       "         AMT_CREDIT  AMT_GOODS_PRICE  HOUR_APPR_PROCESS_START  \\\n",
       "count  1.670213e+06     1.284699e+06             1.670214e+06   \n",
       "mean   1.961140e+05     2.278473e+05             1.248418e+01   \n",
       "std    3.185746e+05     3.153966e+05             3.334028e+00   \n",
       "min    0.000000e+00     0.000000e+00             0.000000e+00   \n",
       "25%    2.416050e+04     5.084100e+04             1.000000e+01   \n",
       "50%    8.054100e+04     1.123200e+05             1.200000e+01   \n",
       "75%    2.164185e+05     2.340000e+05             1.500000e+01   \n",
       "max    6.905160e+06     6.905160e+06             2.300000e+01   \n",
       "\n",
       "       NFLAG_LAST_APPL_IN_DAY  DAYS_DECISION  SELLERPLACE_AREA   CNT_PAYMENT  \n",
       "count            1.670214e+06   1.670214e+06      1.670214e+06  1.297984e+06  \n",
       "mean             9.964675e-01  -8.806797e+02      3.139511e+02  1.605408e+01  \n",
       "std              5.932963e-02   7.790997e+02      7.127443e+03  1.456729e+01  \n",
       "min              0.000000e+00  -2.922000e+03     -1.000000e+00  0.000000e+00  \n",
       "25%              1.000000e+00  -1.300000e+03     -1.000000e+00  6.000000e+00  \n",
       "50%              1.000000e+00  -5.810000e+02      3.000000e+00  1.200000e+01  \n",
       "75%              1.000000e+00  -2.800000e+02      8.200000e+01  2.400000e+01  \n",
       "max              1.000000e+00  -1.000000e+00      4.000000e+06  8.400000e+01  "
      ]
     },
     "execution_count": 12,
     "metadata": {},
     "output_type": "execute_result"
    }
   ],
   "source": [
    "prev_data.describe()"
   ]
  },
  {
   "cell_type": "code",
   "execution_count": 13,
   "id": "afc2abf4",
   "metadata": {},
   "outputs": [
    {
     "data": {
      "text/plain": [
       "SK_ID_PREV                      0.000000\n",
       "SK_ID_CURR                      0.000000\n",
       "NAME_CONTRACT_TYPE              0.000000\n",
       "AMT_ANNUITY                    22.286665\n",
       "AMT_APPLICATION                 0.000000\n",
       "AMT_CREDIT                      0.000060\n",
       "AMT_GOODS_PRICE                23.081773\n",
       "WEEKDAY_APPR_PROCESS_START      0.000000\n",
       "HOUR_APPR_PROCESS_START         0.000000\n",
       "FLAG_LAST_APPL_PER_CONTRACT     0.000000\n",
       "NFLAG_LAST_APPL_IN_DAY          0.000000\n",
       "NAME_CASH_LOAN_PURPOSE          0.000000\n",
       "NAME_CONTRACT_STATUS            0.000000\n",
       "DAYS_DECISION                   0.000000\n",
       "NAME_PAYMENT_TYPE               0.000000\n",
       "CODE_REJECT_REASON              0.000000\n",
       "NAME_CLIENT_TYPE                0.000000\n",
       "NAME_GOODS_CATEGORY             0.000000\n",
       "NAME_PORTFOLIO                  0.000000\n",
       "NAME_PRODUCT_TYPE               0.000000\n",
       "CHANNEL_TYPE                    0.000000\n",
       "SELLERPLACE_AREA                0.000000\n",
       "NAME_SELLER_INDUSTRY            0.000000\n",
       "CNT_PAYMENT                    22.286366\n",
       "NAME_YIELD_GROUP                0.000000\n",
       "PRODUCT_COMBINATION             0.020716\n",
       "dtype: float64"
      ]
     },
     "execution_count": 13,
     "metadata": {},
     "output_type": "execute_result"
    }
   ],
   "source": [
    "per_miss_new = prev_data.isnull().sum() * 100 / len(prev_data)\n",
    "per_miss_new"
   ]
  },
  {
   "cell_type": "code",
   "execution_count": 14,
   "id": "79642b21",
   "metadata": {},
   "outputs": [
    {
     "data": {
      "text/plain": [
       "Cash                              285990\n",
       "POS household with interest       263622\n",
       "POS mobile with interest          220670\n",
       "Cash X-Sell: middle               143883\n",
       "Cash X-Sell: low                  130248\n",
       "Card Street                       112582\n",
       "POS industry with interest         98833\n",
       "POS household without interest     82908\n",
       "Card X-Sell                        80582\n",
       "Cash Street: high                  59639\n",
       "Cash X-Sell: high                  59301\n",
       "Cash Street: middle                34658\n",
       "Cash Street: low                   33834\n",
       "POS mobile without interest        24082\n",
       "POS other with interest            23879\n",
       "POS industry without interest      12602\n",
       "POS others without interest         2555\n",
       "Name: PRODUCT_COMBINATION, dtype: int64"
      ]
     },
     "execution_count": 14,
     "metadata": {},
     "output_type": "execute_result"
    }
   ],
   "source": [
    "prev_data.PRODUCT_COMBINATION.value_counts()"
   ]
  },
  {
   "cell_type": "code",
   "execution_count": 15,
   "id": "c3eec4d2",
   "metadata": {},
   "outputs": [
    {
     "data": {
      "text/plain": [
       "346"
      ]
     },
     "execution_count": 15,
     "metadata": {},
     "output_type": "execute_result"
    }
   ],
   "source": [
    "prev_data.PRODUCT_COMBINATION.isnull().sum()"
   ]
  },
  {
   "cell_type": "code",
   "execution_count": 16,
   "id": "6ca0f66e",
   "metadata": {},
   "outputs": [
    {
     "data": {
      "text/plain": [
       "0    POS mobile with interest\n",
       "1            Cash X-Sell: low\n",
       "2           Cash X-Sell: high\n",
       "3         Cash X-Sell: middle\n",
       "4           Cash Street: high\n",
       "Name: PRODUCT_COMBINATION, dtype: object"
      ]
     },
     "execution_count": 16,
     "metadata": {},
     "output_type": "execute_result"
    }
   ],
   "source": [
    "prev_data.PRODUCT_COMBINATION.head(5)"
   ]
  },
  {
   "cell_type": "code",
   "execution_count": 17,
   "id": "fff26014",
   "metadata": {},
   "outputs": [],
   "source": [
    "prev_data[\"PRODUCT_COMBINATION\"].fillna(\"Cash\", inplace = True)"
   ]
  },
  {
   "cell_type": "code",
   "execution_count": 18,
   "id": "7d50fa4e",
   "metadata": {},
   "outputs": [
    {
     "data": {
      "text/plain": [
       "0"
      ]
     },
     "execution_count": 18,
     "metadata": {},
     "output_type": "execute_result"
    }
   ],
   "source": [
    "prev_data.PRODUCT_COMBINATION.isnull().sum()"
   ]
  },
  {
   "cell_type": "code",
   "execution_count": 19,
   "id": "761b6a42",
   "metadata": {},
   "outputs": [
    {
     "name": "stdout",
     "output_type": "stream",
     "text": [
      "<class 'pandas.core.frame.DataFrame'>\n",
      "RangeIndex: 1670214 entries, 0 to 1670213\n",
      "Data columns (total 26 columns):\n",
      " #   Column                       Non-Null Count    Dtype  \n",
      "---  ------                       --------------    -----  \n",
      " 0   SK_ID_PREV                   1670214 non-null  int64  \n",
      " 1   SK_ID_CURR                   1670214 non-null  int64  \n",
      " 2   NAME_CONTRACT_TYPE           1670214 non-null  object \n",
      " 3   AMT_ANNUITY                  1297979 non-null  float64\n",
      " 4   AMT_APPLICATION              1670214 non-null  float64\n",
      " 5   AMT_CREDIT                   1670213 non-null  float64\n",
      " 6   AMT_GOODS_PRICE              1284699 non-null  float64\n",
      " 7   WEEKDAY_APPR_PROCESS_START   1670214 non-null  object \n",
      " 8   HOUR_APPR_PROCESS_START      1670214 non-null  int64  \n",
      " 9   FLAG_LAST_APPL_PER_CONTRACT  1670214 non-null  object \n",
      " 10  NFLAG_LAST_APPL_IN_DAY       1670214 non-null  int64  \n",
      " 11  NAME_CASH_LOAN_PURPOSE       1670214 non-null  object \n",
      " 12  NAME_CONTRACT_STATUS         1670214 non-null  object \n",
      " 13  DAYS_DECISION                1670214 non-null  int64  \n",
      " 14  NAME_PAYMENT_TYPE            1670214 non-null  object \n",
      " 15  CODE_REJECT_REASON           1670214 non-null  object \n",
      " 16  NAME_CLIENT_TYPE             1670214 non-null  object \n",
      " 17  NAME_GOODS_CATEGORY          1670214 non-null  object \n",
      " 18  NAME_PORTFOLIO               1670214 non-null  object \n",
      " 19  NAME_PRODUCT_TYPE            1670214 non-null  object \n",
      " 20  CHANNEL_TYPE                 1670214 non-null  object \n",
      " 21  SELLERPLACE_AREA             1670214 non-null  int64  \n",
      " 22  NAME_SELLER_INDUSTRY         1670214 non-null  object \n",
      " 23  CNT_PAYMENT                  1297984 non-null  float64\n",
      " 24  NAME_YIELD_GROUP             1670214 non-null  object \n",
      " 25  PRODUCT_COMBINATION          1670214 non-null  object \n",
      "dtypes: float64(5), int64(6), object(15)\n",
      "memory usage: 331.3+ MB\n"
     ]
    }
   ],
   "source": [
    "prev_data.info(verbose=True)"
   ]
  },
  {
   "cell_type": "markdown",
   "id": "c46a1ee6",
   "metadata": {},
   "source": [
    "Converting negative values to absolute values"
   ]
  },
  {
   "cell_type": "code",
   "execution_count": 20,
   "id": "bac50a13",
   "metadata": {},
   "outputs": [
    {
     "data": {
      "text/plain": [
       "0"
      ]
     },
     "execution_count": 20,
     "metadata": {},
     "output_type": "execute_result"
    }
   ],
   "source": [
    "(prev_data.AMT_ANNUITY < 0).sum().sum()"
   ]
  },
  {
   "cell_type": "code",
   "execution_count": 21,
   "id": "bf9b98aa",
   "metadata": {},
   "outputs": [
    {
     "data": {
      "text/plain": [
       "0"
      ]
     },
     "execution_count": 21,
     "metadata": {},
     "output_type": "execute_result"
    }
   ],
   "source": [
    "(prev_data.AMT_APPLICATION < 0).sum().sum()"
   ]
  },
  {
   "cell_type": "code",
   "execution_count": 22,
   "id": "3efef023",
   "metadata": {},
   "outputs": [
    {
     "data": {
      "text/plain": [
       "0"
      ]
     },
     "execution_count": 22,
     "metadata": {},
     "output_type": "execute_result"
    }
   ],
   "source": [
    "(prev_data.AMT_CREDIT < 0).sum().sum()"
   ]
  },
  {
   "cell_type": "code",
   "execution_count": 23,
   "id": "acee41af",
   "metadata": {},
   "outputs": [
    {
     "data": {
      "text/plain": [
       "0"
      ]
     },
     "execution_count": 23,
     "metadata": {},
     "output_type": "execute_result"
    }
   ],
   "source": [
    "(prev_data.AMT_GOODS_PRICE  < 0).sum().sum()"
   ]
  },
  {
   "cell_type": "code",
   "execution_count": 24,
   "id": "3b6023cd",
   "metadata": {},
   "outputs": [
    {
     "data": {
      "text/plain": [
       "0"
      ]
     },
     "execution_count": 24,
     "metadata": {},
     "output_type": "execute_result"
    }
   ],
   "source": [
    "(prev_data.HOUR_APPR_PROCESS_START < 0).sum().sum()"
   ]
  },
  {
   "cell_type": "code",
   "execution_count": 25,
   "id": "1c126ba2",
   "metadata": {},
   "outputs": [
    {
     "data": {
      "text/plain": [
       "0"
      ]
     },
     "execution_count": 25,
     "metadata": {},
     "output_type": "execute_result"
    }
   ],
   "source": [
    "(prev_data.NFLAG_LAST_APPL_IN_DAY < 0).sum().sum()"
   ]
  },
  {
   "cell_type": "code",
   "execution_count": 26,
   "id": "949821a0",
   "metadata": {},
   "outputs": [
    {
     "data": {
      "text/plain": [
       "1670214"
      ]
     },
     "execution_count": 26,
     "metadata": {},
     "output_type": "execute_result"
    }
   ],
   "source": [
    "(prev_data.DAYS_DECISION < 0).sum().sum()"
   ]
  },
  {
   "cell_type": "code",
   "execution_count": 27,
   "id": "58e18df6",
   "metadata": {},
   "outputs": [],
   "source": [
    "prev_data[\"DAYS_DECISION\"]=abs(prev_data.DAYS_DECISION)"
   ]
  },
  {
   "cell_type": "code",
   "execution_count": 28,
   "id": "96e864ba",
   "metadata": {},
   "outputs": [
    {
     "data": {
      "text/plain": [
       "0"
      ]
     },
     "execution_count": 28,
     "metadata": {},
     "output_type": "execute_result"
    }
   ],
   "source": [
    "(prev_data.DAYS_DECISION < 0).sum().sum()"
   ]
  },
  {
   "cell_type": "code",
   "execution_count": 29,
   "id": "6dfa482e",
   "metadata": {},
   "outputs": [
    {
     "data": {
      "text/plain": [
       "762675"
      ]
     },
     "execution_count": 29,
     "metadata": {},
     "output_type": "execute_result"
    }
   ],
   "source": [
    "(prev_data.SELLERPLACE_AREA < 0).sum().sum()"
   ]
  },
  {
   "cell_type": "code",
   "execution_count": 30,
   "id": "1db8ab7b",
   "metadata": {},
   "outputs": [],
   "source": [
    "prev_data[\"SELLERPLACE_AREA\"]=abs(prev_data.SELLERPLACE_AREA)"
   ]
  },
  {
   "cell_type": "code",
   "execution_count": 31,
   "id": "82b49612",
   "metadata": {},
   "outputs": [
    {
     "data": {
      "text/plain": [
       "0"
      ]
     },
     "execution_count": 31,
     "metadata": {},
     "output_type": "execute_result"
    }
   ],
   "source": [
    "(prev_data.SELLERPLACE_AREA < 0).sum().sum()"
   ]
  },
  {
   "cell_type": "markdown",
   "id": "811605c8",
   "metadata": {},
   "source": [
    "Univariate Analysis "
   ]
  },
  {
   "cell_type": "markdown",
   "id": "61c72be4",
   "metadata": {},
   "source": [
    "1. NAME_CONTRACT_TYPE"
   ]
  },
  {
   "cell_type": "code",
   "execution_count": 32,
   "id": "33208a53",
   "metadata": {},
   "outputs": [
    {
     "data": {
      "text/plain": [
       "Cash loans         44.757917\n",
       "Consumer loans     43.656142\n",
       "Revolving loans    11.565225\n",
       "XNA                 0.020716\n",
       "Name: NAME_CONTRACT_TYPE, dtype: float64"
      ]
     },
     "execution_count": 32,
     "metadata": {},
     "output_type": "execute_result"
    }
   ],
   "source": [
    "prev_data.NAME_CONTRACT_TYPE.value_counts(normalize=True)*100"
   ]
  },
  {
   "cell_type": "code",
   "execution_count": 33,
   "id": "debaad19",
   "metadata": {},
   "outputs": [],
   "source": [
    "prev_data.NAME_CONTRACT_TYPE = prev_data.NAME_CONTRACT_TYPE.replace(\"XNA\",\"Cash loans\")"
   ]
  },
  {
   "cell_type": "code",
   "execution_count": 34,
   "id": "9558699d",
   "metadata": {},
   "outputs": [
    {
     "data": {
      "text/plain": [
       "Cash loans         44.778633\n",
       "Consumer loans     43.656142\n",
       "Revolving loans    11.565225\n",
       "Name: NAME_CONTRACT_TYPE, dtype: float64"
      ]
     },
     "execution_count": 34,
     "metadata": {},
     "output_type": "execute_result"
    }
   ],
   "source": [
    "prev_data.NAME_CONTRACT_TYPE.value_counts(normalize=True)*100"
   ]
  },
  {
   "cell_type": "code",
   "execution_count": 35,
   "id": "a809067e",
   "metadata": {},
   "outputs": [
    {
     "data": {
      "image/png": "[encoded data removed]",
      "text/plain": [
       "<Figure size 432x288 with 1 Axes>"
      ]
     },
     "metadata": {},
     "output_type": "display_data"
    }
   ],
   "source": [
    "plt.pie(prev_data['NAME_CONTRACT_TYPE'].value_counts(normalize=True)*100,labels=['Cash Loans','Consumer Loans','Revolving Loans'])\n",
    "plt.title('NAME_CONTRACT_TYPE')\n",
    "plt.show()"
   ]
  },
  {
   "cell_type": "markdown",
   "id": "517bbdcc",
   "metadata": {},
   "source": [
    "2.AMT_ANNUITY"
   ]
  },
  {
   "cell_type": "code",
   "execution_count": 36,
   "id": "ab1839b7",
   "metadata": {},
   "outputs": [
    {
     "data": {
      "text/plain": [
       "2250.000     31865\n",
       "11250.000    13974\n",
       "6750.000     13442\n",
       "9000.000     12496\n",
       "22500.000    11903\n",
       "             ...  \n",
       "3794.445         1\n",
       "8723.160         1\n",
       "27948.330        1\n",
       "25374.285        1\n",
       "14704.290        1\n",
       "Name: AMT_ANNUITY, Length: 357959, dtype: int64"
      ]
     },
     "execution_count": 36,
     "metadata": {},
     "output_type": "execute_result"
    }
   ],
   "source": [
    "prev_data.AMT_ANNUITY.value_counts()"
   ]
  },
  {
   "cell_type": "code",
   "execution_count": 38,
   "id": "bfa973fc",
   "metadata": {},
   "outputs": [
    {
     "data": {
      "text/plain": [
       "0     VERY_LOW\n",
       "1         HIGH\n",
       "2       MEDIUM\n",
       "3    VERY_HIGH\n",
       "4         HIGH\n",
       "5         HIGH\n",
       "6          NaN\n",
       "7          NaN\n",
       "8          NaN\n",
       "9          NaN\n",
       "Name: AMT_ANNUITY_BIN, dtype: category\n",
       "Categories (5, object): ['VERY_LOW' < 'LOW' < 'MEDIUM' < 'HIGH' < 'VERY_HIGH']"
      ]
     },
     "execution_count": 38,
     "metadata": {},
     "output_type": "execute_result"
    }
   ],
   "source": [
    "prev_data['AMT_ANNUITY_BIN'] = pd.qcut(prev_data.AMT_ANNUITY, q=[0, 0.2, 0.5, 0.8, 0.95, 1], labels=['VERY_LOW', 'LOW', \"MEDIUM\", 'HIGH', 'VERY_HIGH'])\n",
    "prev_data['AMT_ANNUITY_BIN'].head(10)"
   ]
  },
  {
   "cell_type": "code",
   "execution_count": 39,
   "id": "203c823d",
   "metadata": {},
   "outputs": [
    {
     "data": {
      "text/plain": [
       "<AxesSubplot:>"
      ]
     },
     "execution_count": 39,
     "metadata": {},
     "output_type": "execute_result"
    },
    {
     "data": {
      "image/png": "[encoded data removed]",
      "text/plain": [
       "<Figure size 432x288 with 1 Axes>"
      ]
     },
     "metadata": {
      "needs_background": "light"
     },
     "output_type": "display_data"
    }
   ],
   "source": [
    "prev_data.AMT_ANNUITY_BIN.value_counts().plot.barh()"
   ]
  },
  {
   "cell_type": "markdown",
   "id": "163a1b87",
   "metadata": {},
   "source": [
    "3.WEEKDAY_APPR_PROCESS_START"
   ]
  },
  {
   "cell_type": "code",
   "execution_count": 44,
   "id": "97295823",
   "metadata": {},
   "outputs": [
    {
     "data": {
      "text/plain": [
       "TUESDAY      255118\n",
       "WEDNESDAY    255010\n",
       "MONDAY       253557\n",
       "FRIDAY       252048\n",
       "THURSDAY     249099\n",
       "SATURDAY     240631\n",
       "SUNDAY       164751\n",
       "Name: WEEKDAY_APPR_PROCESS_START, dtype: int64"
      ]
     },
     "execution_count": 44,
     "metadata": {},
     "output_type": "execute_result"
    }
   ],
   "source": [
    "prev_data.WEEKDAY_APPR_PROCESS_START.value_counts()"
   ]
  },
  {
   "cell_type": "code",
   "execution_count": 45,
   "id": "5ee01e81",
   "metadata": {},
   "outputs": [
    {
     "data": {
      "text/plain": [
       "<AxesSubplot:>"
      ]
     },
     "execution_count": 45,
     "metadata": {},
     "output_type": "execute_result"
    },
    {
     "data": {
      "image/png": "[encoded data removed]",
      "text/plain": [
       "<Figure size 432x288 with 1 Axes>"
      ]
     },
     "metadata": {
      "needs_background": "light"
     },
     "output_type": "display_data"
    }
   ],
   "source": [
    "prev_data.WEEKDAY_APPR_PROCESS_START.value_counts().plot.barh()"
   ]
  },
  {
   "cell_type": "code",
   "execution_count": 46,
   "id": "84938837",
   "metadata": {},
   "outputs": [
    {
     "data": {
      "text/plain": [
       "Cash through the bank                        1033552\n",
       "XNA                                           627384\n",
       "Non-cash from your account                      8193\n",
       "Cashless from the account of the employer       1085\n",
       "Name: NAME_PAYMENT_TYPE, dtype: int64"
      ]
     },
     "execution_count": 46,
     "metadata": {},
     "output_type": "execute_result"
    }
   ],
   "source": [
    "prev_data.NAME_PAYMENT_TYPE.value_counts()"
   ]
  },
  {
   "cell_type": "code",
   "execution_count": 47,
   "id": "debb9e96",
   "metadata": {},
   "outputs": [
    {
     "data": {
      "text/plain": [
       "Cash through the bank                        61.881412\n",
       "XNA                                          37.563091\n",
       "Non-cash from your account                    0.490536\n",
       "Cashless from the account of the employer     0.064962\n",
       "Name: NAME_PAYMENT_TYPE, dtype: float64"
      ]
     },
     "execution_count": 47,
     "metadata": {},
     "output_type": "execute_result"
    }
   ],
   "source": [
    "prev_data.NAME_PAYMENT_TYPE.value_counts(normalize=True)*100"
   ]
  },
  {
   "cell_type": "code",
   "execution_count": 48,
   "id": "8a219541",
   "metadata": {},
   "outputs": [],
   "source": [
    "prev_data=prev_data.replace('XNA', np.NaN)"
   ]
  },
  {
   "cell_type": "code",
   "execution_count": 49,
   "id": "cc9f0908",
   "metadata": {},
   "outputs": [
    {
     "data": {
      "text/plain": [
       "Cash through the bank                        1033552\n",
       "Non-cash from your account                      8193\n",
       "Cashless from the account of the employer       1085\n",
       "Name: NAME_PAYMENT_TYPE, dtype: int64"
      ]
     },
     "execution_count": 49,
     "metadata": {},
     "output_type": "execute_result"
    }
   ],
   "source": [
    "prev_data.NAME_PAYMENT_TYPE.value_counts()"
   ]
  },
  {
   "cell_type": "code",
   "execution_count": 55,
   "id": "7a31ee16",
   "metadata": {},
   "outputs": [
    {
     "data": {
      "image/png": "[encoded data removed]",
      "text/plain": [
       "<Figure size 864x864 with 1 Axes>"
      ]
     },
     "metadata": {},
     "output_type": "display_data"
    }
   ],
   "source": [
    "plt.figure(figsize=[12,12])\n",
    "prev_data.NAME_PAYMENT_TYPE.value_counts().plot.pie()\n",
    "plt.title(\"Loan Payment Type\")\n",
    "plt.show()"
   ]
  },
  {
   "cell_type": "code",
   "execution_count": 56,
   "id": "31bd1bb0",
   "metadata": {},
   "outputs": [
    {
     "data": {
      "text/plain": [
       "XAP       1353093\n",
       "HC         175231\n",
       "LIMIT       55680\n",
       "SCO         37467\n",
       "CLIENT      26436\n",
       "SCOFR       12811\n",
       "VERIF        3535\n",
       "SYSTEM        717\n",
       "Name: CODE_REJECT_REASON, dtype: int64"
      ]
     },
     "execution_count": 56,
     "metadata": {},
     "output_type": "execute_result"
    }
   ],
   "source": [
    "prev_data.CODE_REJECT_REASON.value_counts()"
   ]
  },
  {
   "cell_type": "code",
   "execution_count": 63,
   "id": "5e443c21",
   "metadata": {},
   "outputs": [
    {
     "data": {
      "image/png": "[encoded data removed]",
      "text/plain": [
       "<Figure size 1296x432 with 1 Axes>"
      ]
     },
     "metadata": {
      "needs_background": "light"
     },
     "output_type": "display_data"
    }
   ],
   "source": [
    "plt.figure(figsize=[18,6])\n",
    "prev_data.CODE_REJECT_REASON.value_counts().plot.barh()\n",
    "plt.show()"
   ]
  },
  {
   "cell_type": "code",
   "execution_count": 64,
   "id": "046580d5",
   "metadata": {},
   "outputs": [
    {
     "data": {
      "text/plain": [
       "Repeater     1231261\n",
       "New           301363\n",
       "Refreshed     135649\n",
       "Name: NAME_CLIENT_TYPE, dtype: int64"
      ]
     },
     "execution_count": 64,
     "metadata": {},
     "output_type": "execute_result"
    }
   ],
   "source": [
    "prev_data.NAME_CLIENT_TYPE.value_counts()"
   ]
  },
  {
   "cell_type": "code",
   "execution_count": 66,
   "id": "a596b192",
   "metadata": {},
   "outputs": [
    {
     "data": {
      "image/png": "[encoded data removed]",
      "text/plain": [
       "<Figure size 432x288 with 1 Axes>"
      ]
     },
     "metadata": {},
     "output_type": "display_data"
    }
   ],
   "source": [
    "prev_data.NAME_CLIENT_TYPE.value_counts().plot.pie()\n",
    "plt.show()"
   ]
  },
  {
   "cell_type": "code",
   "execution_count": 67,
   "id": "a7726fe4",
   "metadata": {},
   "outputs": [
    {
     "data": {
      "text/plain": [
       "POS      691011\n",
       "Cash     461563\n",
       "Cards    144985\n",
       "Cars        425\n",
       "Name: NAME_PORTFOLIO, dtype: int64"
      ]
     },
     "execution_count": 67,
     "metadata": {},
     "output_type": "execute_result"
    }
   ],
   "source": [
    "prev_data.NAME_PORTFOLIO.value_counts()"
   ]
  },
  {
   "cell_type": "code",
   "execution_count": 68,
   "id": "9a9f43e4",
   "metadata": {},
   "outputs": [
    {
     "data": {
      "image/png": "[encoded data removed]",
      "text/plain": [
       "<Figure size 432x288 with 1 Axes>"
      ]
     },
     "metadata": {},
     "output_type": "display_data"
    }
   ],
   "source": [
    "prev_data.NAME_PORTFOLIO.value_counts().plot.pie()\n",
    "plt.show()"
   ]
  },
  {
   "cell_type": "code",
   "execution_count": 69,
   "id": "ea9ba2db",
   "metadata": {},
   "outputs": [
    {
     "data": {
      "text/plain": [
       "Mobile                      224708\n",
       "Consumer Electronics        121576\n",
       "Computers                   105769\n",
       "Audio/Video                  99441\n",
       "Furniture                    53656\n",
       "Photo / Cinema Equipment     25021\n",
       "Construction Materials       24995\n",
       "Clothing and Accessories     23554\n",
       "Auto Accessories              7381\n",
       "Jewelry                       6290\n",
       "Homewares                     5023\n",
       "Medical Supplies              3843\n",
       "Vehicles                      3370\n",
       "Sport and Leisure             2981\n",
       "Gardening                     2668\n",
       "Other                         2554\n",
       "Office Appliances             2333\n",
       "Tourism                       1659\n",
       "Medicine                      1550\n",
       "Direct Sales                   446\n",
       "Fitness                        209\n",
       "Additional Service             128\n",
       "Education                      107\n",
       "Weapon                          77\n",
       "Insurance                       64\n",
       "Animals                          1\n",
       "House Construction               1\n",
       "Name: NAME_GOODS_CATEGORY, dtype: int64"
      ]
     },
     "execution_count": 69,
     "metadata": {},
     "output_type": "execute_result"
    }
   ],
   "source": [
    "prev_data.NAME_GOODS_CATEGORY.value_counts()"
   ]
  },
  {
   "cell_type": "code",
   "execution_count": 71,
   "id": "9259908f",
   "metadata": {},
   "outputs": [
    {
     "data": {
      "image/png": "[encoded data removed]",
      "text/plain": [
       "<Figure size 1296x432 with 1 Axes>"
      ]
     },
     "metadata": {
      "needs_background": "light"
     },
     "output_type": "display_data"
    }
   ],
   "source": [
    "plt.figure(figsize=[18,6])\n",
    "prev_data.NAME_GOODS_CATEGORY.value_counts().plot.barh()\n",
    "plt.show()"
   ]
  },
  {
   "cell_type": "markdown",
   "id": "b707a0de",
   "metadata": {},
   "source": [
    "Combining the app_data & prev_data "
   ]
  },
  {
   "cell_type": "code",
   "execution_count": 73,
   "id": "29990bc1",
   "metadata": {},
   "outputs": [],
   "source": [
    "app_data = pd.read_csv(\"application_data.csv\")\n",
    "app_data_new=app_data[['SK_ID_CURR','TARGET']]"
   ]
  },
  {
   "cell_type": "code",
   "execution_count": 76,
   "id": "2639adce",
   "metadata": {},
   "outputs": [],
   "source": [
    "app_data_merge = app_data_new.merge(prev_data,on='SK_ID_CURR', how='inner')"
   ]
  },
  {
   "cell_type": "code",
   "execution_count": 75,
   "id": "4827f4ff",
   "metadata": {},
   "outputs": [
    {
     "data": {
      "text/plain": [
       "(1413701, 28)"
      ]
     },
     "execution_count": 75,
     "metadata": {},
     "output_type": "execute_result"
    }
   ],
   "source": [
    "app_data_merge.shape"
   ]
  },
  {
   "cell_type": "code",
   "execution_count": 84,
   "id": "69e598ab",
   "metadata": {},
   "outputs": [
    {
     "name": "stdout",
     "output_type": "stream",
     "text": [
      "<class 'pandas.core.frame.DataFrame'>\n",
      "Int64Index: 1413701 entries, 0 to 1413700\n",
      "Data columns (total 28 columns):\n",
      " #   Column                       Non-Null Count    Dtype   \n",
      "---  ------                       --------------    -----   \n",
      " 0   SK_ID_CURR                   1413701 non-null  int64   \n",
      " 1   TARGET                       1413701 non-null  int64   \n",
      " 2   SK_ID_PREV                   1413701 non-null  int64   \n",
      " 3   NAME_CONTRACT_TYPE           1413701 non-null  object  \n",
      " 4   AMT_ANNUITY                  1106483 non-null  float64 \n",
      " 5   AMT_APPLICATION              1413701 non-null  float64 \n",
      " 6   AMT_CREDIT                   1413700 non-null  float64 \n",
      " 7   AMT_GOODS_PRICE              1094176 non-null  float64 \n",
      " 8   WEEKDAY_APPR_PROCESS_START   1413701 non-null  object  \n",
      " 9   HOUR_APPR_PROCESS_START      1413701 non-null  int64   \n",
      " 10  FLAG_LAST_APPL_PER_CONTRACT  1413701 non-null  object  \n",
      " 11  NFLAG_LAST_APPL_IN_DAY       1413701 non-null  int64   \n",
      " 12  NAME_CASH_LOAN_PURPOSE       846350 non-null   object  \n",
      " 13  NAME_CONTRACT_STATUS         1413701 non-null  object  \n",
      " 14  DAYS_DECISION                1413701 non-null  int64   \n",
      " 15  NAME_PAYMENT_TYPE            890741 non-null   object  \n",
      " 16  CODE_REJECT_REASON           1409323 non-null  object  \n",
      " 17  NAME_CLIENT_TYPE             1412158 non-null  object  \n",
      " 18  NAME_GOODS_CATEGORY          616492 non-null   object  \n",
      " 19  NAME_PORTFOLIO               1106488 non-null  object  \n",
      " 20  NAME_PRODUCT_TYPE            513648 non-null   object  \n",
      " 21  CHANNEL_TYPE                 1413701 non-null  object  \n",
      " 22  SELLERPLACE_AREA             1413701 non-null  int64   \n",
      " 23  NAME_SELLER_INDUSTRY         698379 non-null   object  \n",
      " 24  CNT_PAYMENT                  1106488 non-null  float64 \n",
      " 25  NAME_YIELD_GROUP             984503 non-null   object  \n",
      " 26  PRODUCT_COMBINATION          1413701 non-null  object  \n",
      " 27  AMT_ANNUITY_BIN              1106483 non-null  category\n",
      "dtypes: category(1), float64(5), int64(7), object(15)\n",
      "memory usage: 303.3+ MB\n"
     ]
    }
   ],
   "source": [
    "app_data_merge.info(verbose=True)"
   ]
  },
  {
   "cell_type": "code",
   "execution_count": 80,
   "id": "58fcc0b5",
   "metadata": {},
   "outputs": [
    {
     "data": {
      "image/png": "[encoded data removed]",
      "text/plain": [
       "<Figure size 432x288 with 1 Axes>"
      ]
     },
     "metadata": {
      "needs_background": "light"
     },
     "output_type": "display_data"
    }
   ],
   "source": [
    "app_data_merge.NAME_CONTRACT_STATUS.value_counts().plot.barh()\n",
    "plt.show()"
   ]
  },
  {
   "cell_type": "code",
   "execution_count": 86,
   "id": "77f8f5e8",
   "metadata": {},
   "outputs": [
    {
     "data": {
      "image/png": "[encoded data removed]",
      "text/plain": [
       "<Figure size 432x288 with 1 Axes>"
      ]
     },
     "metadata": {
      "needs_background": "light"
     },
     "output_type": "display_data"
    }
   ],
   "source": [
    "app_data_merge.NAME_CONTRACT_TYPE.value_counts().plot.barh()\n",
    "plt.show()"
   ]
  },
  {
   "cell_type": "code",
   "execution_count": 87,
   "id": "bdea3101",
   "metadata": {},
   "outputs": [
    {
     "data": {
      "image/png": "[encoded data removed]",
      "text/plain": [
       "<Figure size 432x288 with 1 Axes>"
      ]
     },
     "metadata": {
      "needs_background": "light"
     },
     "output_type": "display_data"
    }
   ],
   "source": [
    "app_data_merge.NAME_PAYMENT_TYPE.value_counts().plot.barh()\n",
    "plt.show()"
   ]
  },
  {
   "cell_type": "code",
   "execution_count": 88,
   "id": "3569186a",
   "metadata": {},
   "outputs": [
    {
     "data": {
      "image/png": "[encoded data removed]",
      "text/plain": [
       "<Figure size 432x288 with 1 Axes>"
      ]
     },
     "metadata": {
      "needs_background": "light"
     },
     "output_type": "display_data"
    }
   ],
   "source": [
    "app_data_merge.NAME_CLIENT_TYPE.value_counts().plot.barh()\n",
    "plt.show()"
   ]
  },
  {
   "cell_type": "code",
   "execution_count": 90,
   "id": "b841cf36",
   "metadata": {},
   "outputs": [
    {
     "data": {
      "image/png": "[encoded data removed]",
      "text/plain": [
       "<Figure size 432x288 with 1 Axes>"
      ]
     },
     "metadata": {
      "needs_background": "light"
     },
     "output_type": "display_data"
    }
   ],
   "source": [
    "app_data_merge.NAME_CASH_LOAN_PURPOSE.value_counts().plot.bar()\n",
    "plt.show()"
   ]
  },
  {
   "cell_type": "code",
   "execution_count": 91,
   "id": "7cde6fd6",
   "metadata": {},
   "outputs": [],
   "source": [
    "Table_1 = pd.pivot_table(app_data_merge, values='TARGET', index=['NAME_CLIENT_TYPE'],columns=['NAME_CONTRACT_STATUS'], aggfunc=np.mean)\n"
   ]
  },
  {
   "cell_type": "code",
   "execution_count": 92,
   "id": "d2d2be19",
   "metadata": {},
   "outputs": [
    {
     "data": {
      "text/html": [
       "<div>\n",
       "<style scoped>\n",
       "    .dataframe tbody tr th:only-of-type {\n",
       "        vertical-align: middle;\n",
       "    }\n",
       "\n",
       "    .dataframe tbody tr th {\n",
       "        vertical-align: top;\n",
       "    }\n",
       "\n",
       "    .dataframe thead th {\n",
       "        text-align: right;\n",
       "    }\n",
       "</style>\n",
       "<table border=\"1\" class=\"dataframe\">\n",
       "  <thead>\n",
       "    <tr style=\"text-align: right;\">\n",
       "      <th>NAME_CONTRACT_STATUS</th>\n",
       "      <th>Approved</th>\n",
       "      <th>Canceled</th>\n",
       "      <th>Refused</th>\n",
       "      <th>Unused offer</th>\n",
       "    </tr>\n",
       "    <tr>\n",
       "      <th>NAME_CLIENT_TYPE</th>\n",
       "      <th></th>\n",
       "      <th></th>\n",
       "      <th></th>\n",
       "      <th></th>\n",
       "    </tr>\n",
       "  </thead>\n",
       "  <tbody>\n",
       "    <tr>\n",
       "      <th>New</th>\n",
       "      <td>0.088216</td>\n",
       "      <td>0.145205</td>\n",
       "      <td>0.110940</td>\n",
       "      <td>0.089448</td>\n",
       "    </tr>\n",
       "    <tr>\n",
       "      <th>Refreshed</th>\n",
       "      <td>0.065158</td>\n",
       "      <td>0.081098</td>\n",
       "      <td>0.117412</td>\n",
       "      <td>0.074324</td>\n",
       "    </tr>\n",
       "    <tr>\n",
       "      <th>Repeater</th>\n",
       "      <td>0.072144</td>\n",
       "      <td>0.091767</td>\n",
       "      <td>0.120596</td>\n",
       "      <td>0.083338</td>\n",
       "    </tr>\n",
       "  </tbody>\n",
       "</table>\n",
       "</div>"
      ],
      "text/plain": [
       "NAME_CONTRACT_STATUS  Approved  Canceled   Refused  Unused offer\n",
       "NAME_CLIENT_TYPE                                                \n",
       "New                   0.088216  0.145205  0.110940      0.089448\n",
       "Refreshed             0.065158  0.081098  0.117412      0.074324\n",
       "Repeater              0.072144  0.091767  0.120596      0.083338"
      ]
     },
     "execution_count": 92,
     "metadata": {},
     "output_type": "execute_result"
    }
   ],
   "source": [
    "Table_1"
   ]
  },
  {
   "cell_type": "code",
   "execution_count": 93,
   "id": "16d99a10",
   "metadata": {},
   "outputs": [
    {
     "data": {
      "image/png": "[encoded data removed]",
      "text/plain": [
       "<Figure size 432x288 with 2 Axes>"
      ]
     },
     "metadata": {
      "needs_background": "light"
     },
     "output_type": "display_data"
    }
   ],
   "source": [
    "sns.heatmap(Table_1,annot=True,cmap=\"RdYlGn\")\n",
    "plt.show()"
   ]
  },
  {
   "cell_type": "code",
   "execution_count": 94,
   "id": "363bd12e",
   "metadata": {},
   "outputs": [],
   "source": [
    "Table_2 = pd.pivot_table(app_data_merge, values='TARGET', index=['NAME_CONTRACT_TYPE'],columns=['NAME_CONTRACT_STATUS'], aggfunc=np.mean)\n"
   ]
  },
  {
   "cell_type": "code",
   "execution_count": 95,
   "id": "5ba96dc5",
   "metadata": {},
   "outputs": [
    {
     "data": {
      "text/html": [
       "<div>\n",
       "<style scoped>\n",
       "    .dataframe tbody tr th:only-of-type {\n",
       "        vertical-align: middle;\n",
       "    }\n",
       "\n",
       "    .dataframe tbody tr th {\n",
       "        vertical-align: top;\n",
       "    }\n",
       "\n",
       "    .dataframe thead th {\n",
       "        text-align: right;\n",
       "    }\n",
       "</style>\n",
       "<table border=\"1\" class=\"dataframe\">\n",
       "  <thead>\n",
       "    <tr style=\"text-align: right;\">\n",
       "      <th>NAME_CONTRACT_STATUS</th>\n",
       "      <th>Approved</th>\n",
       "      <th>Canceled</th>\n",
       "      <th>Refused</th>\n",
       "      <th>Unused offer</th>\n",
       "    </tr>\n",
       "    <tr>\n",
       "      <th>NAME_CONTRACT_TYPE</th>\n",
       "      <th></th>\n",
       "      <th></th>\n",
       "      <th></th>\n",
       "      <th></th>\n",
       "    </tr>\n",
       "  </thead>\n",
       "  <tbody>\n",
       "    <tr>\n",
       "      <th>Cash loans</th>\n",
       "      <td>0.075516</td>\n",
       "      <td>0.088541</td>\n",
       "      <td>0.125834</td>\n",
       "      <td>0.092593</td>\n",
       "    </tr>\n",
       "    <tr>\n",
       "      <th>Consumer loans</th>\n",
       "      <td>0.073853</td>\n",
       "      <td>0.128668</td>\n",
       "      <td>0.101350</td>\n",
       "      <td>0.082337</td>\n",
       "    </tr>\n",
       "    <tr>\n",
       "      <th>Revolving loans</th>\n",
       "      <td>0.090343</td>\n",
       "      <td>0.109254</td>\n",
       "      <td>0.129050</td>\n",
       "      <td>0.000000</td>\n",
       "    </tr>\n",
       "  </tbody>\n",
       "</table>\n",
       "</div>"
      ],
      "text/plain": [
       "NAME_CONTRACT_STATUS  Approved  Canceled   Refused  Unused offer\n",
       "NAME_CONTRACT_TYPE                                              \n",
       "Cash loans            0.075516  0.088541  0.125834      0.092593\n",
       "Consumer loans        0.073853  0.128668  0.101350      0.082337\n",
       "Revolving loans       0.090343  0.109254  0.129050      0.000000"
      ]
     },
     "execution_count": 95,
     "metadata": {},
     "output_type": "execute_result"
    }
   ],
   "source": [
    "Table_2"
   ]
  },
  {
   "cell_type": "code",
   "execution_count": 96,
   "id": "e562ee2c",
   "metadata": {},
   "outputs": [
    {
     "data": {
      "image/png": "[encoded data removed]",
      "text/plain": [
       "<Figure size 432x288 with 2 Axes>"
      ]
     },
     "metadata": {
      "needs_background": "light"
     },
     "output_type": "display_data"
    }
   ],
   "source": [
    "sns.heatmap(Table_2,annot=True,cmap=\"RdYlGn\")\n",
    "plt.show()"
   ]
  }
 ],
 "metadata": {
  "kernelspec": {
   "display_name": "Python 3 (ipykernel)",
   "language": "python",
   "name": "python3"
  },
  "language_info": {
   "codemirror_mode": {
    "name": "ipython",
    "version": 3
   },
   "file_extension": ".py",
   "mimetype": "text/x-python",
   "name": "python",
   "nbconvert_exporter": "python",
   "pygments_lexer": "ipython3",
   "version": "3.9.7"
  }
 },
 "nbformat": 4,
 "nbformat_minor": 5
}
